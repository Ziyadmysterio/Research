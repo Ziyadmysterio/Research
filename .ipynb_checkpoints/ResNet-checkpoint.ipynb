{
 "cells": [
  {
   "cell_type": "code",
   "execution_count": 1,
   "metadata": {},
   "outputs": [],
   "source": [
    "import pandas as pd\n",
    "import numpy as np"
   ]
  },
  {
   "cell_type": "code",
   "execution_count": 2,
   "metadata": {},
   "outputs": [
    {
     "name": "stdout",
     "output_type": "stream",
     "text": [
      "hi\n"
     ]
    }
   ],
   "source": [
    "pd"
   ]
  },
  {
   "cell_type": "code",
   "execution_count": 13,
   "metadata": {},
   "outputs": [
    {
     "name": "stdout",
     "output_type": "stream",
     "text": [
      "Unexpected exception formatting exception. Falling back to standard exception\n"
     ]
    },
    {
     "name": "stderr",
     "output_type": "stream",
     "text": [
      "Traceback (most recent call last):\n",
      "  File \"/home/intern/anaconda3/envs/data_anomaly/lib/python3.8/site-packages/IPython/core/interactiveshell.py\", line 3398, in run_code\n",
      "    exec(code_obj, self.user_global_ns, self.user_ns)\n",
      "  File \"/tmp/ipykernel_12057/1053289729.py\", line 3, in <cell line: 3>\n",
      "    import torchvision.models as models\n",
      "  File \"/home/intern/anaconda3/envs/data_anomaly/lib/python3.8/site-packages/torchvision/__init__.py\", line 6, in <module>\n",
      "    from torchvision import models\n",
      "  File \"/home/intern/anaconda3/envs/data_anomaly/lib/python3.8/site-packages/torchvision/models/__init__.py\", line 12, in <module>\n",
      "    from . import detection\n",
      "  File \"/home/intern/anaconda3/envs/data_anomaly/lib/python3.8/site-packages/torchvision/models/detection/__init__.py\", line 1, in <module>\n",
      "    from .faster_rcnn import *\n",
      "  File \"/home/intern/anaconda3/envs/data_anomaly/lib/python3.8/site-packages/torchvision/models/detection/faster_rcnn.py\", line 5, in <module>\n",
      "    from torchvision.ops import MultiScaleRoIAlign\n",
      "  File \"/home/intern/anaconda3/envs/data_anomaly/lib/python3.8/site-packages/torchvision/ops/__init__.py\", line 14, in <module>\n",
      "    _register_custom_op()\n",
      "  File \"/home/intern/anaconda3/envs/data_anomaly/lib/python3.8/site-packages/torchvision/ops/_register_onnx_ops.py\", line 9, in _register_custom_op\n",
      "    from torch.onnx.symbolic_helper import parse_args, scalar_type_to_onnx, scalar_type_to_pytorch_type, \\\n",
      "  File \"/home/intern/anaconda3/envs/data_anomaly/lib/python3.8/site-packages/torch/onnx/symbolic_helper.py\", line 11, in <module>\n",
      "    import torch.onnx.utils\n",
      "  File \"/home/intern/anaconda3/envs/data_anomaly/lib/python3.8/site-packages/torch/onnx/utils.py\", line 13, in <module>\n",
      "    from torch._six import container_abcs\n",
      "ImportError: cannot import name 'container_abcs' from 'torch._six' (/home/intern/anaconda3/envs/data_anomaly/lib/python3.8/site-packages/torch/_six.py)\n",
      "\n",
      "During handling of the above exception, another exception occurred:\n",
      "\n",
      "Traceback (most recent call last):\n",
      "  File \"/home/intern/anaconda3/envs/data_anomaly/lib/python3.8/site-packages/IPython/core/interactiveshell.py\", line 1993, in showtraceback\n",
      "    stb = self.InteractiveTB.structured_traceback(\n",
      "  File \"/home/intern/anaconda3/envs/data_anomaly/lib/python3.8/site-packages/IPython/core/ultratb.py\", line 1118, in structured_traceback\n",
      "    return FormattedTB.structured_traceback(\n",
      "  File \"/home/intern/anaconda3/envs/data_anomaly/lib/python3.8/site-packages/IPython/core/ultratb.py\", line 1012, in structured_traceback\n",
      "    return VerboseTB.structured_traceback(\n",
      "  File \"/home/intern/anaconda3/envs/data_anomaly/lib/python3.8/site-packages/IPython/core/ultratb.py\", line 865, in structured_traceback\n",
      "    formatted_exception = self.format_exception_as_a_whole(etype, evalue, etb, number_of_lines_of_context,\n",
      "  File \"/home/intern/anaconda3/envs/data_anomaly/lib/python3.8/site-packages/IPython/core/ultratb.py\", line 818, in format_exception_as_a_whole\n",
      "    frames.append(self.format_record(r))\n",
      "  File \"/home/intern/anaconda3/envs/data_anomaly/lib/python3.8/site-packages/IPython/core/ultratb.py\", line 736, in format_record\n",
      "    result += ''.join(_format_traceback_lines(frame_info.lines, Colors, self.has_colors, lvals))\n",
      "  File \"/home/intern/anaconda3/envs/data_anomaly/lib/python3.8/site-packages/stack_data/utils.py\", line 145, in cached_property_wrapper\n",
      "    value = obj.__dict__[self.func.__name__] = self.func(obj)\n",
      "  File \"/home/intern/anaconda3/envs/data_anomaly/lib/python3.8/site-packages/stack_data/core.py\", line 698, in lines\n",
      "    pieces = self.included_pieces\n",
      "  File \"/home/intern/anaconda3/envs/data_anomaly/lib/python3.8/site-packages/stack_data/utils.py\", line 145, in cached_property_wrapper\n",
      "    value = obj.__dict__[self.func.__name__] = self.func(obj)\n",
      "  File \"/home/intern/anaconda3/envs/data_anomaly/lib/python3.8/site-packages/stack_data/core.py\", line 649, in included_pieces\n",
      "    pos = scope_pieces.index(self.executing_piece)\n",
      "  File \"/home/intern/anaconda3/envs/data_anomaly/lib/python3.8/site-packages/stack_data/utils.py\", line 145, in cached_property_wrapper\n",
      "    value = obj.__dict__[self.func.__name__] = self.func(obj)\n",
      "  File \"/home/intern/anaconda3/envs/data_anomaly/lib/python3.8/site-packages/stack_data/core.py\", line 628, in executing_piece\n",
      "    return only(\n",
      "  File \"/home/intern/anaconda3/envs/data_anomaly/lib/python3.8/site-packages/executing/executing.py\", line 164, in only\n",
      "    raise NotOneValueFound('Expected one value, found 0')\n",
      "executing.executing.NotOneValueFound: Expected one value, found 0\n"
     ]
    }
   ],
   "source": [
    "import torch\n",
    "import torch.nn as nn\n",
    "import torchvision.models as models\n",
    "import torchvision.transforms as transforms\n"
   ]
  },
  {
   "cell_type": "code",
   "execution_count": 10,
   "metadata": {},
   "outputs": [
    {
     "name": "stdout",
     "output_type": "stream",
     "text": [
      "Looking in links: https://download.pytorch.org/whl/lts/1.8/torch_lts.html\n",
      "Collecting torch==1.8.1+cu111\n",
      "  Downloading https://download.pytorch.org/whl/lts/1.8/cu111/torch-1.8.1%2Bcu111-cp38-cp38-linux_x86_64.whl (1982.2 MB)\n",
      "\u001b[2K     \u001b[90m━━━━━━━━━━━━━━━━━━━━━━━━━━━━━━━━━━━━━━━━\u001b[0m \u001b[32m2.0/2.0 GB\u001b[0m \u001b[31m986.1 kB/s\u001b[0m eta \u001b[36m0:00:00\u001b[0m:01\u001b[0m00:14\u001b[0m0m\n",
      "\u001b[?25hCollecting torchvision==0.9.1+cu111\n",
      "  Downloading https://download.pytorch.org/whl/lts/1.8/cu111/torchvision-0.9.1%2Bcu111-cp38-cp38-linux_x86_64.whl (17.6 MB)\n",
      "\u001b[2K     \u001b[90m━━━━━━━━━━━━━━━━━━━━━━━━━━━━━━━━━━━━━━━━\u001b[0m \u001b[32m17.6/17.6 MB\u001b[0m \u001b[31m5.3 MB/s\u001b[0m eta \u001b[36m0:00:00\u001b[0m00:01\u001b[0m00:01\u001b[0m\n",
      "\u001b[?25hCollecting torchaudio==0.8.1\n",
      "  Downloading torchaudio-0.8.1-cp38-cp38-manylinux1_x86_64.whl (1.9 MB)\n",
      "\u001b[2K     \u001b[90m━━━━━━━━━━━━━━━━━━━━━━━━━━━━━━━━━━━━━━━━\u001b[0m \u001b[32m1.9/1.9 MB\u001b[0m \u001b[31m5.1 MB/s\u001b[0m eta \u001b[36m0:00:00\u001b[0ma \u001b[36m0:00:01\u001b[0m\n",
      "\u001b[?25hRequirement already satisfied: typing-extensions in /home/intern/anaconda3/envs/data_anomaly/lib/python3.8/site-packages (from torch==1.8.1+cu111) (4.1.1)\n",
      "Requirement already satisfied: numpy in /home/intern/anaconda3/envs/data_anomaly/lib/python3.8/site-packages (from torch==1.8.1+cu111) (1.19.2)\n",
      "Requirement already satisfied: pillow>=4.1.1 in /home/intern/anaconda3/envs/data_anomaly/lib/python3.8/site-packages (from torchvision==0.9.1+cu111) (9.0.1)\n",
      "Installing collected packages: torch, torchvision, torchaudio\n",
      "  Attempting uninstall: torch\n",
      "    Found existing installation: torch 1.7.1\n",
      "    Uninstalling torch-1.7.1:\n",
      "      Successfully uninstalled torch-1.7.1\n",
      "  Attempting uninstall: torchvision\n",
      "    Found existing installation: torchvision 0.8.0a0\n",
      "    Uninstalling torchvision-0.8.0a0:\n",
      "      Successfully uninstalled torchvision-0.8.0a0\n",
      "Successfully installed torch-1.8.1+cu111 torchaudio-0.8.1 torchvision-0.9.1+cu111\n",
      "Collecting torchtext==0.9.1\n",
      "  Downloading torchtext-0.9.1-cp38-cp38-manylinux1_x86_64.whl (7.0 MB)\n",
      "\u001b[2K     \u001b[90m━━━━━━━━━━━━━━━━━━━━━━━━━━━━━━━━━━━━━━━━\u001b[0m \u001b[32m7.0/7.0 MB\u001b[0m \u001b[31m10.5 MB/s\u001b[0m eta \u001b[36m0:00:00\u001b[0m00:01\u001b[0m00:01\u001b[0m\n",
      "\u001b[?25hCollecting tqdm\n",
      "  Downloading tqdm-4.64.0-py2.py3-none-any.whl (78 kB)\n",
      "\u001b[2K     \u001b[90m━━━━━━━━━━━━━━━━━━━━━━━━━━━━━━━━━━━━━━━━\u001b[0m \u001b[32m78.4/78.4 kB\u001b[0m \u001b[31m1.3 MB/s\u001b[0m eta \u001b[36m0:00:00\u001b[0m-:--:--\u001b[0m\n",
      "\u001b[?25hRequirement already satisfied: requests in /home/intern/anaconda3/envs/data_anomaly/lib/python3.8/site-packages (from torchtext==0.9.1) (2.27.1)\n",
      "Requirement already satisfied: torch==1.8.1 in /home/intern/anaconda3/envs/data_anomaly/lib/python3.8/site-packages (from torchtext==0.9.1) (1.8.1+cu111)\n",
      "Requirement already satisfied: numpy in /home/intern/anaconda3/envs/data_anomaly/lib/python3.8/site-packages (from torchtext==0.9.1) (1.19.2)\n",
      "Requirement already satisfied: typing-extensions in /home/intern/anaconda3/envs/data_anomaly/lib/python3.8/site-packages (from torch==1.8.1->torchtext==0.9.1) (4.1.1)\n",
      "Requirement already satisfied: urllib3<1.27,>=1.21.1 in /home/intern/anaconda3/envs/data_anomaly/lib/python3.8/site-packages (from requests->torchtext==0.9.1) (1.26.9)\n",
      "Requirement already satisfied: idna<4,>=2.5 in /home/intern/anaconda3/envs/data_anomaly/lib/python3.8/site-packages (from requests->torchtext==0.9.1) (3.3)\n",
      "Requirement already satisfied: certifi>=2017.4.17 in /home/intern/anaconda3/envs/data_anomaly/lib/python3.8/site-packages (from requests->torchtext==0.9.1) (2022.5.18.1)\n",
      "Requirement already satisfied: charset-normalizer~=2.0.0 in /home/intern/anaconda3/envs/data_anomaly/lib/python3.8/site-packages (from requests->torchtext==0.9.1) (2.0.4)\n",
      "Installing collected packages: tqdm, torchtext\n",
      "Successfully installed torchtext-0.9.1 tqdm-4.64.0\n"
     ]
    }
   ],
   "source": [
    "!pip install torch==1.8.1+cu111 torchvision==0.9.1+cu111 torchaudio==0.8.1 -f https://download.pytorch.org/whl/lts/1.8/torch_lts.html\n",
    "!pip install torchtext==0.9.1"
   ]
  },
  {
   "cell_type": "code",
   "execution_count": 8,
   "metadata": {},
   "outputs": [
    {
     "name": "stdout",
     "output_type": "stream",
     "text": [
      "Collecting package metadata (current_repodata.json): done\n",
      "Solving environment: done\n",
      "\n",
      "\n",
      "==> WARNING: A newer version of conda exists. <==\n",
      "  current version: 4.12.0\n",
      "  latest version: 4.13.0\n",
      "\n",
      "Please update conda by running\n",
      "\n",
      "    $ conda update -n base -c defaults conda\n",
      "\n",
      "\n",
      "\n",
      "# All requested packages already installed.\n",
      "\n",
      "\n",
      "Note: you may need to restart the kernel to use updated packages.\n"
     ]
    }
   ],
   "source": [
    "conda install pillow"
   ]
  },
  {
   "cell_type": "code",
   "execution_count": null,
   "metadata": {},
   "outputs": [],
   "source": []
  }
 ],
 "metadata": {
  "interpreter": {
   "hash": "cdf1403dfa52513513712fafe0995149a9a3ddf8eb1c94b7898809124531b82a"
  },
  "kernelspec": {
   "display_name": "Python 3 (ipykernel)",
   "language": "python",
   "name": "python3"
  },
  "language_info": {
   "codemirror_mode": {
    "name": "ipython",
    "version": 3
   },
   "file_extension": ".py",
   "mimetype": "text/x-python",
   "name": "python",
   "nbconvert_exporter": "python",
   "pygments_lexer": "ipython3",
   "version": "3.8.5"
  }
 },
 "nbformat": 4,
 "nbformat_minor": 2
}
