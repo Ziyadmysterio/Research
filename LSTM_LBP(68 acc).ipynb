{
  "cells": [
    {
      "cell_type": "code",
      "execution_count": null,
      "metadata": {
        "colab": {
          "base_uri": "https://localhost:8080/"
        },
        "id": "6P919jAfKO7Y",
        "outputId": "840c2328-71f8-4649-f63d-e79eb0d956ff"
      },
      "outputs": [
        {
          "name": "stdout",
          "output_type": "stream",
          "text": [
            "Drive already mounted at /gdrive; to attempt to forcibly remount, call drive.mount(\"/gdrive\", force_remount=True).\n"
          ]
        }
      ],
      "source": [
        "# from google.colab import drive\n",
        "# drive.mount('/gdrive')"
      ]
    },
    {
      "cell_type": "code",
      "execution_count": null,
      "metadata": {
        "colab": {
          "base_uri": "https://localhost:8080/"
        },
        "id": "cLQVq6EL-U37",
        "outputId": "50b61bcd-cc1f-418d-e1d3-08ad816468a5"
      },
      "outputs": [
        {
          "name": "stdout",
          "output_type": "stream",
          "text": [
            "Mounted at /content/drive\n"
          ]
        }
      ],
      "source": [
        "from google.colab import drive\n",
        "drive.mount('/content/drive')"
      ]
    },
    {
      "cell_type": "markdown",
      "metadata": {
        "id": "VVdBbzxcS_SD"
      },
      "source": [
        "# Set working directory"
      ]
    },
    {
      "cell_type": "code",
      "execution_count": null,
      "metadata": {
        "colab": {
          "base_uri": "https://localhost:8080/"
        },
        "id": "i7zts3PKK4x5",
        "outputId": "7a0ba39b-3f36-41c0-d7a2-91eb44b3b32d"
      },
      "outputs": [
        {
          "data": {
            "text/plain": [
              "['Resnet_LBP_2.ipynb',\n",
              " 'YUP++.zip',\n",
              " 'camera_stationary',\n",
              " 'camera_moving',\n",
              " '10_90_randsplit_1.txt',\n",
              " 'frames',\n",
              " 'data_frames.csv',\n",
              " 'LBP_frames',\n",
              " 'resnet',\n",
              " 'LSTM',\n",
              " 'vgg',\n",
              " '.ipynb_checkpoints',\n",
              " 'train_images',\n",
              " 'test_images',\n",
              " 'train_LBP_frames',\n",
              " 'test_LBP_frames',\n",
              " 'train_frame_data.csv',\n",
              " 'test_frame_data.csv',\n",
              " 'train_videos',\n",
              " 'test_videos',\n",
              " 'resnet2',\n",
              " 'VGG_LBP.ipynb',\n",
              " 'Resnet_LBP.ipynb',\n",
              " 'LSTM2',\n",
              " 'LSTM_LBP.ipynb']"
            ]
          },
          "execution_count": 3,
          "metadata": {},
          "output_type": "execute_result"
        }
      ],
      "source": [
        "import os\n",
        "WORK_DIR = '/content/drive/MyDrive/Scene_Recognition/LSTM'\n",
        "\n",
        "os.chdir(WORK_DIR)\n",
        "os.listdir()"
      ]
    },
    {
      "cell_type": "markdown",
      "metadata": {
        "id": "u0PRPQcjPfoj"
      },
      "source": [
        "# Set data directory"
      ]
    },
    {
      "cell_type": "code",
      "execution_count": null,
      "metadata": {
        "id": "fan8pOmkPfFe"
      },
      "outputs": [],
      "source": [
        "STATIONARY_DATA_DIR = '/content/drive/MyDrive/Scene_Recognition/LSTM/camera_stationary'\n",
        "MOVING_DATA_DIR = '/content/drive/MyDrive/Scene_Recognition/LSTM/camera_moving'\n",
        "class_names = os.listdir(STATIONARY_DATA_DIR)"
      ]
    },
    {
      "cell_type": "code",
      "execution_count": null,
      "metadata": {
        "colab": {
          "base_uri": "https://localhost:8080/"
        },
        "id": "V-G1uMljPkV1",
        "outputId": "cdb4e48a-a5e4-4398-d369-3451ee6b891e"
      },
      "outputs": [
        {
          "data": {
            "text/plain": [
              "['Beach',\n",
              " 'BuildingCollapse',\n",
              " 'Elevator',\n",
              " 'Escalator',\n",
              " 'FallingTrees',\n",
              " 'Fireworks',\n",
              " 'ForestFire',\n",
              " 'Fountain',\n",
              " 'Highway',\n",
              " 'LightningStorm',\n",
              " 'Marathon',\n",
              " 'Ocean',\n",
              " 'Railway',\n",
              " 'RushingRiver',\n",
              " 'SkyClouds',\n",
              " 'Snowing',\n",
              " 'Street',\n",
              " 'Waterfall',\n",
              " 'WavingFlags',\n",
              " 'WindmillFarm']"
            ]
          },
          "execution_count": 5,
          "metadata": {},
          "output_type": "execute_result"
        }
      ],
      "source": [
        "class_names"
      ]
    },
    {
      "cell_type": "code",
      "execution_count": null,
      "metadata": {
        "colab": {
          "base_uri": "https://localhost:8080/"
        },
        "id": "gBrrqvzqsv7s",
        "outputId": "dc067479-10b6-4ff5-ea9f-be55379bddaf"
      },
      "outputs": [
        {
          "data": {
            "text/plain": [
              "['Beach_static_cam_1.mp4', 'Beach_static_cam_10.mp4']"
            ]
          },
          "execution_count": 71,
          "metadata": {},
          "output_type": "execute_result"
        }
      ],
      "source": [
        "# os.listdir(\"/content/drive/MyDrive/Scene_Recognition/LSTM/camera_stationary/Beach\")[:2]"
      ]
    },
    {
      "cell_type": "markdown",
      "metadata": {
        "id": "34W8ikLc0RPR"
      },
      "source": [
        "## spliting training and testing videos"
      ]
    },
    {
      "cell_type": "code",
      "execution_count": null,
      "metadata": {
        "id": "xvXkiSAZyHgR"
      },
      "outputs": [],
      "source": [
        "# creting training and testing paths \n",
        "# import shutil\n",
        "# path = \"/content/drive/MyDrive/Scene_Recognition\"\n",
        "# train_path = path+\"/\"+\"train_videos\"\n",
        "# os.mkdir(train_path)\n",
        "# test_path = path+\"/\"+\"test_videos\"\n",
        "# os.mkdir(test_path)"
      ]
    },
    {
      "cell_type": "code",
      "execution_count": null,
      "metadata": {
        "id": "cuyFTHslyHU-"
      },
      "outputs": [],
      "source": [
        "'''\n",
        "# extracting videos for training\n",
        "ls_folders = [STATIONARY_DATA_DIR,MOVING_DATA_DIR]\n",
        "\n",
        "for i in ls_folders:\n",
        "  for j in class_names:\n",
        "    # path = i\n",
        "    path = i+\"/\"+j\n",
        "    img_list = list(os.listdir(path))\n",
        "    training_videos = img_list[:20]\n",
        "    for k in range(len(training_videos)):\n",
        "      if(os.path.exists(train_path+\"/\"+j)):\n",
        "        pass\n",
        "      else:\n",
        "        os.mkdir(train_path+\"/\"+j)\n",
        "      shutil.copy(path+\"/\"+training_videos[k], train_path+\"/\"+j+\"/\")'''\n",
        "        "
      ]
    },
    {
      "cell_type": "code",
      "execution_count": null,
      "metadata": {
        "id": "pRlVGe-cixjx"
      },
      "outputs": [],
      "source": [
        "'''\n",
        "#extracting videos for testing\n",
        "ls_folders = [STATIONARY_DATA_DIR,MOVING_DATA_DIR]\n",
        "\n",
        "for i in ls_folders:\n",
        "  for j in class_names:\n",
        "    # path = i\n",
        "    path = i+\"/\"+j\n",
        "    img_list = list(os.listdir(path))\n",
        "    testing_videos = img_list[20:]\n",
        "    for k in range(len(testing_videos)):\n",
        "      if(os.path.exists(test_path+\"/\"+j)):\n",
        "        pass\n",
        "      else:\n",
        "        os.mkdir(test_path+\"/\"+j)\n",
        "      shutil.copy(path+\"/\"+testing_videos[k], test_path+\"/\"+j+\"/\")\n",
        "      '''"
      ]
    },
    {
      "cell_type": "code",
      "execution_count": null,
      "metadata": {
        "id": "qLAGEP4XyHLw"
      },
      "outputs": [],
      "source": []
    },
    {
      "cell_type": "markdown",
      "metadata": {
        "id": "KFx1zIGbS09c"
      },
      "source": [
        "# Unzip the dataset\n",
        "### (run this code only once)"
      ]
    },
    {
      "cell_type": "code",
      "execution_count": null,
      "metadata": {
        "id": "fp4qvQufLNmx"
      },
      "outputs": [],
      "source": [
        "#import zipfile\n",
        "#with zipfile.ZipFile('/gdrive/My Drive/LSTM/YUP++.zip', 'r') as zip:\n",
        "#    zip.extractall()"
      ]
    },
    {
      "cell_type": "code",
      "execution_count": null,
      "metadata": {
        "colab": {
          "base_uri": "https://localhost:8080/"
        },
        "id": "xE0UJTb7hAF1",
        "outputId": "64902ad6-ff1a-4431-bba8-048bc6b0410f"
      },
      "outputs": [
        {
          "name": "stdout",
          "output_type": "stream",
          "text": [
            "/content/drive/.shortcut-targets-by-id/15V1GyiiXyjkVGWU7Vj98bhhqxOJQSsT2/LSTM\n"
          ]
        }
      ],
      "source": [
        "!pwd"
      ]
    },
    {
      "cell_type": "code",
      "execution_count": null,
      "metadata": {
        "colab": {
          "base_uri": "https://localhost:8080/"
        },
        "id": "I-vLo1IJhDMD",
        "outputId": "c5254843-1c71-4c02-a515-f878e7868a9c"
      },
      "outputs": [
        {
          "name": "stdout",
          "output_type": "stream",
          "text": [
            "/content\n"
          ]
        }
      ],
      "source": [
        "%cd /content"
      ]
    },
    {
      "cell_type": "code",
      "execution_count": null,
      "metadata": {
        "id": "yUlXH2Msg0RK"
      },
      "outputs": [],
      "source": [
        "!unzip /content/drive/MyDrive/Scene_Recognition/LSTM/YUP++.zip"
      ]
    },
    {
      "cell_type": "markdown",
      "metadata": {
        "id": "7g8Bo62DTYgZ"
      },
      "source": [
        "# Load Data\n",
        "extract frames from the videos"
      ]
    },
    {
      "cell_type": "markdown",
      "metadata": {
        "id": "xWrPTOeTMQ-d"
      },
      "source": [
        "### Stationary camera videos\n",
        "(run this code only once to extract frames)"
      ]
    },
    {
      "cell_type": "code",
      "execution_count": null,
      "metadata": {
        "colab": {
          "base_uri": "https://localhost:8080/"
        },
        "id": "P51CkXG8e-bB",
        "outputId": "6359f8f2-2a53-4ed9-a3e4-30fde2bfbde2"
      },
      "outputs": [
        {
          "name": "stdout",
          "output_type": "stream",
          "text": [
            "Done!\n"
          ]
        }
      ],
      "source": [
        "'''\n",
        "import cv2     # for capturing videos\n",
        "import math\n",
        "\n",
        "frame_names = []\n",
        "frame_class = []\n",
        "\n",
        "width = 150\n",
        "height = 150\n",
        "dim = (width, height)\n",
        "\n",
        "for class_ in class_names:\n",
        "  os.chdir(STATIONARY_DATA_DIR+'/'+class_)\n",
        "\n",
        "  for file_name in os.listdir():\n",
        "    count = 0\n",
        "    videoFile = file_name\n",
        "    cap = cv2.VideoCapture(videoFile)   # capturing the video from the given path\n",
        "    frameRate = cap.get(4) #frame rate\n",
        "    x = 1\n",
        "    while(cap.isOpened()):\n",
        "      frameId = cap.get(1) #current frame number\n",
        "      ret, frame = cap.read()\n",
        "      if (ret != True):\n",
        "          break\n",
        "      #print(frameId)\n",
        "      #print(frameRate)\n",
        "      if (frameId // math.floor(frameRate) == 0):\n",
        "\n",
        "        os.chdir(WORK_DIR+'/frames')\n",
        "        filename =class_+\"_stationary_frame%d.jpg\" % count;\n",
        "        frame_names.append(filename)\n",
        "        frame_class.append(class_)\n",
        "        count += 1\n",
        "        resized = cv2.resize(frame, dim, interpolation = cv2.INTER_AREA)\n",
        "        cv2.imwrite(filename, resized)\n",
        "\n",
        "    cap.release()\n",
        "print (\"Done!\")\n",
        "'''"
      ]
    },
    {
      "cell_type": "code",
      "execution_count": null,
      "metadata": {
        "id": "5li0f16ysLHs"
      },
      "outputs": [],
      "source": []
    },
    {
      "cell_type": "markdown",
      "metadata": {
        "id": "uTF7AzZnMXwv"
      },
      "source": [
        "### Moving camera videos\n",
        "(run this code only once to extract frames)"
      ]
    },
    {
      "cell_type": "code",
      "execution_count": null,
      "metadata": {
        "colab": {
          "base_uri": "https://localhost:8080/"
        },
        "id": "LFEP4qUmGmvU",
        "outputId": "2d27f8f4-4eeb-431a-ca8f-78eb0a37f3fa"
      },
      "outputs": [
        {
          "name": "stdout",
          "output_type": "stream",
          "text": [
            "Done!\n"
          ]
        }
      ],
      "source": [
        "'''\n",
        "import cv2     # for capturing videos\n",
        "import math\n",
        "\n",
        "moving_frame_names = []\n",
        "moving_frame_class = []\n",
        "\n",
        "width = 150\n",
        "height = 150\n",
        "dim = (width, height)\n",
        "\n",
        "\n",
        "for class_ in class_names:\n",
        "  os.chdir(MOVING_DATA_DIR+'/'+class_)\n",
        "\n",
        "  for file_name in os.listdir():\n",
        "    count = 0\n",
        "    videoFile = file_name\n",
        "    cap = cv2.VideoCapture(videoFile)   # capturing the video from the given path\n",
        "    frameRate = cap.get(4) #frame rate\n",
        "    x = 1\n",
        "    while(cap.isOpened()):\n",
        "      frameId = cap.get(1) #current frame number\n",
        "      ret, frame = cap.read()\n",
        "      if (ret != True):\n",
        "          break\n",
        "      #print(frameId)\n",
        "      #print(frameRate)\n",
        "      if (frameId // math.floor(frameRate) == 0):\n",
        "\n",
        "        os.chdir(WORK_DIR+'/frames')\n",
        "        filename =class_+\"_moving_frame%d.jpg\" % count;\n",
        "        moving_frame_names.append(filename)\n",
        "        moving_frame_class.append(class_)\n",
        "        count += 1\n",
        "        resized = cv2.resize(frame, dim, interpolation = cv2.INTER_AREA)\n",
        "        cv2.imwrite(filename, resized)\n",
        "\n",
        "    cap.release()\n",
        "print (\"Done!\")\n",
        "'''"
      ]
    },
    {
      "cell_type": "markdown",
      "metadata": {
        "id": "NclS9bnWPp_i"
      },
      "source": [
        "# Load data into a dataframe\n",
        "(run once)"
      ]
    },
    {
      "cell_type": "code",
      "execution_count": null,
      "metadata": {
        "id": "ohL_HmV4QxTu"
      },
      "outputs": [],
      "source": [
        "'''\n",
        "# switching to working directory\n",
        "os.chdir(WORK_DIR)\n",
        "\n",
        "# read images\n",
        "import matplotlib.pyplot as plt\n",
        "import cv2\n",
        "\n",
        "IMAGE_DIR = WORK_DIR + '/images'\n",
        "grayscaled_images = [cv2.imread(IMAGE_DIR+'/'+img, 0) for img in os.listdir(IMAGE_DIR)]\n",
        "#grayscaled_images = [img/255 for img in images]\n",
        "\n",
        "\n",
        "# create the required dataframe and save it.\n",
        "import pandas as pd\n",
        "\n",
        "data_df = pd.DataFrame()\n",
        "data_df['file_name'] = frame_names + moving_frame_names\n",
        "data_df['grayscale_images'] = grayscaled_images\n",
        "data_df['class'] = frame_class + moving_frame_class\n",
        "data_df.to_csv(WORK_DIR+'/frame_data.csv')\n",
        "\n",
        "'''"
      ]
    },
    {
      "cell_type": "markdown",
      "metadata": {
        "id": "10VSMYaaZpBg"
      },
      "source": [
        "## Till above we manipulated and saved the data in desired format. Now we can just use the dataframe to build our model."
      ]
    },
    {
      "cell_type": "markdown",
      "metadata": {
        "id": "ZmczLfb3aBFY"
      },
      "source": [
        "# Load the datafile"
      ]
    },
    {
      "cell_type": "code",
      "execution_count": 1,
      "metadata": {
        "colab": {
          "base_uri": "https://localhost:8080/",
          "height": 206
        },
        "id": "sS2KlVRXQVCq",
        "outputId": "7aa0fb9a-1271-439c-cf04-2d403147269d"
      },
      "outputs": [
        {
          "ename": "ModuleNotFoundError",
          "evalue": "No module named 'pandas'",
          "output_type": "error",
          "traceback": [
            "\u001b[1;31m---------------------------------------------------------------------------\u001b[0m",
            "\u001b[1;31mModuleNotFoundError\u001b[0m                       Traceback (most recent call last)",
            "\u001b[1;32mc:\\Users\\ziyad\\Desktop\\all desktop\\Heriotwat\\RP\\Code\\Research\\LSTM_LBP(68 acc).ipynb Cell 29'\u001b[0m in \u001b[0;36m<cell line: 1>\u001b[1;34m()\u001b[0m\n\u001b[1;32m----> <a href='vscode-notebook-cell:/c%3A/Users/ziyad/Desktop/all%20desktop/Heriotwat/RP/Code/Research/LSTM_LBP%2868%20acc%29.ipynb#ch0000028?line=0'>1</a>\u001b[0m \u001b[39mimport\u001b[39;00m \u001b[39mpandas\u001b[39;00m \u001b[39mas\u001b[39;00m \u001b[39mpd\u001b[39;00m\n",
            "\u001b[1;31mModuleNotFoundError\u001b[0m: No module named 'pandas'"
          ]
        }
      ],
      "source": [
        "import pandas as pd\n",
        "\n",
        "# data_df = pd.read_csv('data_frames.csv')\n",
        "# data_df = data_df.drop('Unnamed: 0', axis=1)\n",
        "# data_df.head()"
      ]
    },
    {
      "cell_type": "code",
      "execution_count": null,
      "metadata": {
        "colab": {
          "base_uri": "https://localhost:8080/"
        },
        "id": "tXyyeNLxP-lx",
        "outputId": "3bb607cb-347e-4f75-cd02-186a2d0fd706"
      },
      "outputs": [
        {
          "name": "stdout",
          "output_type": "stream",
          "text": [
            "<class 'pandas.core.frame.DataFrame'>\n",
            "RangeIndex: 5574 entries, 0 to 5573\n",
            "Data columns (total 2 columns):\n",
            " #   Column     Non-Null Count  Dtype \n",
            "---  ------     --------------  ----- \n",
            " 0   file_name  5574 non-null   object\n",
            " 1   class      5574 non-null   object\n",
            "dtypes: object(2)\n",
            "memory usage: 87.2+ KB\n"
          ]
        }
      ],
      "source": [
        "data_df.info()"
      ]
    },
    {
      "cell_type": "markdown",
      "metadata": {
        "id": "a954yZiwxOqq"
      },
      "source": [
        "# Class distribution"
      ]
    },
    {
      "cell_type": "code",
      "execution_count": 3,
      "metadata": {
        "colab": {
          "base_uri": "https://localhost:8080/",
          "height": 335
        },
        "id": "VSX8HVF_bf3E",
        "outputId": "8bdfb74c-1bf6-4f0d-e2ac-7da78e9a664e"
      },
      "outputs": [
        {
          "ename": "ModuleNotFoundError",
          "evalue": "No module named 'matplotlib'",
          "output_type": "error",
          "traceback": [
            "\u001b[1;31m---------------------------------------------------------------------------\u001b[0m",
            "\u001b[1;31mModuleNotFoundError\u001b[0m                       Traceback (most recent call last)",
            "\u001b[1;32mc:\\Users\\ziyad\\Desktop\\all desktop\\Heriotwat\\RP\\Code\\Research\\LSTM_LBP(68 acc).ipynb Cell 32'\u001b[0m in \u001b[0;36m<cell line: 2>\u001b[1;34m()\u001b[0m\n\u001b[0;32m      <a href='vscode-notebook-cell:/c%3A/Users/ziyad/Desktop/all%20desktop/Heriotwat/RP/Code/Research/LSTM_LBP%2868%20acc%29.ipynb#ch0000031?line=0'>1</a>\u001b[0m \u001b[39m# import seaborn as sns\u001b[39;00m\n\u001b[1;32m----> <a href='vscode-notebook-cell:/c%3A/Users/ziyad/Desktop/all%20desktop/Heriotwat/RP/Code/Research/LSTM_LBP%2868%20acc%29.ipynb#ch0000031?line=1'>2</a>\u001b[0m \u001b[39mimport\u001b[39;00m \u001b[39mmatplotlib\u001b[39;00m\u001b[39m.\u001b[39;00m\u001b[39mpyplot\u001b[39;00m \u001b[39mas\u001b[39;00m \u001b[39mplt\u001b[39;00m\n",
            "\u001b[1;31mModuleNotFoundError\u001b[0m: No module named 'matplotlib'"
          ]
        }
      ],
      "source": [
        "# import seaborn as sns\n",
        "import matplotlib.pyplot as plt\n",
        "\n",
        "# sns.countplot(x = 'class', data = data_df)\n",
        "# plt.xticks(rotation = 45)\n",
        "# plt.show()"
      ]
    },
    {
      "cell_type": "markdown",
      "metadata": {
        "id": "RJ5D_hJxxWTk"
      },
      "source": [
        "# After downsampling"
      ]
    },
    {
      "cell_type": "code",
      "execution_count": null,
      "metadata": {
        "colab": {
          "base_uri": "https://localhost:8080/",
          "height": 335
        },
        "id": "4vUmMDMYclKE",
        "outputId": "1b6c027c-ad27-4e08-80da-92cb5cf79051"
      },
      "outputs": [
        {
          "data": {
            "image/png": "[encoded data removed]",
            "text/plain": [
              "<Figure size 432x288 with 1 Axes>"
            ]
          },
          "metadata": {
            "needs_background": "light"
          },
          "output_type": "display_data"
        }
      ],
      "source": [
        "groups = data_df.groupby(['class'], group_keys=False)\n",
        "balanced_df = pd.DataFrame(groups.apply(lambda x:x.sample(groups.size().min()))).reset_index(drop=True)\n",
        "\n",
        "sns.countplot(x = 'class', data = balanced_df)\n",
        "plt.xticks(rotation = 45)\n",
        "plt.show()"
      ]
    },
    {
      "cell_type": "code",
      "execution_count": null,
      "metadata": {
        "colab": {
          "base_uri": "https://localhost:8080/"
        },
        "id": "PQFHP6vVtv0R",
        "outputId": "61ab84b6-b54f-4cd3-c6b0-beacc54d051d"
      },
      "outputs": [
        {
          "name": "stdout",
          "output_type": "stream",
          "text": [
            "<class 'pandas.core.frame.DataFrame'>\n",
            "RangeIndex: 3720 entries, 0 to 3719\n",
            "Data columns (total 2 columns):\n",
            " #   Column     Non-Null Count  Dtype \n",
            "---  ------     --------------  ----- \n",
            " 0   file_name  3720 non-null   object\n",
            " 1   class      3720 non-null   object\n",
            "dtypes: object(2)\n",
            "memory usage: 58.2+ KB\n"
          ]
        }
      ],
      "source": [
        "balanced_df.info()"
      ]
    },
    {
      "cell_type": "markdown",
      "metadata": {
        "id": "ONUW5IV8R9TM"
      },
      "source": [
        "# Extract LBP features\n",
        "(run once)"
      ]
    },
    {
      "cell_type": "code",
      "execution_count": 6,
      "metadata": {},
      "outputs": [
        {
          "data": {
            "text/plain": [
              "5"
            ]
          },
          "execution_count": 6,
          "metadata": {},
          "output_type": "execute_result"
        }
      ],
      "source": [
        "2^7"
      ]
    },
    {
      "cell_type": "code",
      "execution_count": null,
      "metadata": {
        "colab": {
          "base_uri": "https://localhost:8080/",
          "height": 53
        },
        "id": "1ohcFlFfcCIk",
        "outputId": "f68b479d-7467-4084-98c9-c59efd3dcbe0"
      },
      "outputs": [
        {
          "data": {
            "application/vnd.google.colaboratory.intrinsic+json": {
              "type": "string"
            },
            "text/plain": [
              "\"\\nimport cv2\\nfrom skimage.feature import local_binary_pattern\\n\\nIMAGE_DIR = WORK_DIR + '/frames'\\n\\nradius = 2\\nn_points = 8 * radius\\nos.chdir(WORK_DIR+'/LBP_frames')\\n\\nfor img in os.listdir(IMAGE_DIR):\\n  pic = cv2.imread(IMAGE_DIR+'/'+img, 0)\\n  lbp = local_binary_pattern(pic, n_points, radius, 'uniform')\\n  cv2.imwrite(img, lbp)\\n\\n\""
            ]
          },
          "execution_count": 8,
          "metadata": {},
          "output_type": "execute_result"
        }
      ],
      "source": [
        "\n",
        "import cv2\n",
        "from skimage.feature import 4local_binary_pattern\n",
        "\n",
        "IMAGE_DIR = WORK_DIR + '/frames'\n",
        "\n",
        "radius = 2\n",
        "n_points = 8 * radius\n",
        "os.chdir(WORK_DIR+'/LBP_frames')\n",
        "\n",
        "for img in os.listdir(IMAGE_DIR):\n",
        "  pic = cv2.imread(IMAGE_DIR+'/'+img, 0)\n",
        "  lbp = local_binary_pattern(pic, n_points, radius, 'uniform')\n",
        "  cv2.imwrite(img, lbp)\n",
        "\n"
      ]
    },
    {
      "cell_type": "markdown",
      "metadata": {
        "id": "-poiznP0ygT3"
      },
      "source": [
        "# Visualisations"
      ]
    },
    {
      "cell_type": "markdown",
      "metadata": {
        "id": "9tXl4AzUx9Oh"
      },
      "source": [
        "### Frame"
      ]
    },
    {
      "cell_type": "code",
      "execution_count": null,
      "metadata": {
        "id": "TDALaik3OAAA"
      },
      "outputs": [],
      "source": [
        "import cv2\n",
        "from google.colab.patches import cv2_imshow\n",
        "\n",
        "IMAGE_DIR = WORK_DIR + '/frames'\n",
        "im2 = cv2.imread(IMAGE_DIR+'/Beach_moving_frame67.jpg')\n",
        "cv2_imshow(im2)"
      ]
    },
    {
      "cell_type": "markdown",
      "metadata": {
        "id": "rWACMnN2yARo"
      },
      "source": [
        "### LBP feature"
      ]
    },
    {
      "cell_type": "code",
      "execution_count": null,
      "metadata": {
        "colab": {
          "base_uri": "https://localhost:8080/",
          "height": 167
        },
        "id": "NDf5_LO-OLdz",
        "outputId": "b2ee1849-533d-4827-cf09-a3c5b72a38ee"
      },
      "outputs": [
        {
          "data": {
            "image/png": "[encoded data removed]",
            "text/plain": [
              "<PIL.Image.Image image mode=RGB size=150x150 at 0x7FA3E2AC4E50>"
            ]
          },
          "metadata": {},
          "output_type": "display_data"
        }
      ],
      "source": [
        "from google.colab.patches import cv2_imshow\n",
        "im2 = cv2.imread(WORK_DIR+'/LBP_frames/Beach_moving_frame67.jpg')\n",
        "cv2_imshow(im2)"
      ]
    },
    {
      "cell_type": "code",
      "execution_count": null,
      "metadata": {
        "colab": {
          "base_uri": "https://localhost:8080/"
        },
        "id": "a7LaJZwtVp7u",
        "outputId": "51d3a16a-5da0-48f6-fca9-8656d4b32cbc"
      },
      "outputs": [
        {
          "data": {
            "text/plain": [
              "20"
            ]
          },
          "execution_count": 13,
          "metadata": {},
          "output_type": "execute_result"
        }
      ],
      "source": [
        "len(class_names)"
      ]
    },
    {
      "cell_type": "markdown",
      "metadata": {
        "id": "VWXZAZW1kQRj"
      },
      "source": [
        "## One hot encoding"
      ]
    },
    {
      "cell_type": "code",
      "execution_count": null,
      "metadata": {
        "id": "Cw0LWdgBkHc9"
      },
      "outputs": [],
      "source": [
        "# load target and one hot encoding\n",
        "\n",
        "from keras.utils.np_utils import to_categorical\n",
        "\n",
        "class_dict = {}\n",
        "for i, c in enumerate(class_names):\n",
        "  if c not in class_dict:\n",
        "    class_dict[c] = i\n",
        "\n",
        "y = balanced_df['class'].map(class_dict)\n",
        "y_encoded = to_categorical(y, num_classes=20)"
      ]
    },
    {
      "cell_type": "code",
      "execution_count": null,
      "metadata": {
        "colab": {
          "base_uri": "https://localhost:8080/"
        },
        "id": "z8yfFvelKQHe",
        "outputId": "811bcaaf-afcf-485c-9e2f-9ce350df343a"
      },
      "outputs": [
        {
          "name": "stdout",
          "output_type": "stream",
          "text": [
            "Total Number of Classes: 20\n"
          ]
        }
      ],
      "source": [
        "from sklearn.preprocessing import LabelEncoder\n",
        "\n",
        "lb = LabelEncoder()\n",
        "\n",
        "labels = lb.fit_transform(class_names)\n",
        "print(f\"Total Number of Classes: {len(lb.classes_)}\")"
      ]
    },
    {
      "cell_type": "code",
      "execution_count": null,
      "metadata": {
        "colab": {
          "base_uri": "https://localhost:8080/"
        },
        "id": "OF3Y20m6w_ig",
        "outputId": "b000cf0d-0a24-4364-b5a0-8b03e7c5d9a7"
      },
      "outputs": [
        {
          "data": {
            "text/plain": [
              "array([ 0,  1,  2,  3,  4,  5,  6,  7,  8,  9, 10, 11, 12, 13, 14, 15, 16,\n",
              "       17, 18, 19])"
            ]
          },
          "execution_count": 5,
          "metadata": {},
          "output_type": "execute_result"
        }
      ],
      "source": [
        "labels"
      ]
    },
    {
      "cell_type": "markdown",
      "metadata": {
        "id": "Jkv2VYXkXmW_"
      },
      "source": [
        "## Train and Test"
      ]
    },
    {
      "cell_type": "code",
      "execution_count": null,
      "metadata": {
        "colab": {
          "base_uri": "https://localhost:8080/"
        },
        "id": "BkvJBl0HUNgY",
        "outputId": "e45a85a1-14ee-4ae8-d4ff-b74033ade621"
      },
      "outputs": [
        {
          "name": "stdout",
          "output_type": "stream",
          "text": [
            "(2790,)\n",
            "(930,)\n",
            "(2790, 20)\n",
            "(930, 20)\n"
          ]
        }
      ],
      "source": [
        "from sklearn.model_selection import train_test_split\n",
        "\n",
        "x_train, x_test, y_train, y_test = train_test_split(balanced_df['file_name'], y_encoded, test_size=0.25, random_state=42)\n",
        "\n",
        "print(x_train.shape)\n",
        "print(x_test.shape)\n",
        "print(y_train.shape)\n",
        "print(y_test.shape)"
      ]
    },
    {
      "cell_type": "code",
      "execution_count": null,
      "metadata": {
        "colab": {
          "base_uri": "https://localhost:8080/"
        },
        "id": "jb9lbGMg29Lk",
        "outputId": "ece211a2-813d-4dd4-b2d8-9db4c471db23"
      },
      "outputs": [
        {
          "data": {
            "text/plain": [
              "2790"
            ]
          },
          "execution_count": 14,
          "metadata": {},
          "output_type": "execute_result"
        }
      ],
      "source": [
        "len(x_train)"
      ]
    },
    {
      "cell_type": "code",
      "execution_count": null,
      "metadata": {
        "id": "eTKy2tumz6Mr"
      },
      "outputs": [],
      "source": [
        "# load train images\n",
        "import cv2\n",
        "os.chdir(WORK_DIR+'/LBP_frames')\n",
        "\n",
        "train_img = []\n",
        "for img in x_train:\n",
        "  im = cv2.imread(WORK_DIR+'/LBP_frames'+'/'+img, 0)\n",
        "  train_img.append(im)"
      ]
    },
    {
      "cell_type": "code",
      "execution_count": null,
      "metadata": {
        "colab": {
          "base_uri": "https://localhost:8080/"
        },
        "id": "JUdd8qoYXddb",
        "outputId": "a6d17d99-b7f1-464b-97b0-bbf06cb3eb4f"
      },
      "outputs": [
        {
          "data": {
            "text/plain": [
              "2790"
            ]
          },
          "execution_count": 15,
          "metadata": {},
          "output_type": "execute_result"
        }
      ],
      "source": [
        "len(train_img)"
      ]
    },
    {
      "cell_type": "code",
      "execution_count": null,
      "metadata": {
        "id": "LfqSAe4zz51N"
      },
      "outputs": [],
      "source": [
        "# load test images\n",
        "\n",
        "os.chdir(WORK_DIR+'/LBP_frames')\n",
        "\n",
        "test_img = []\n",
        "for img in x_test:\n",
        "  im = cv2.imread(WORK_DIR+'/LBP_frames'+'/'+img, 0)\n",
        "  test_img.append(im)"
      ]
    },
    {
      "cell_type": "code",
      "execution_count": null,
      "metadata": {
        "id": "HT7QiaiY0589"
      },
      "outputs": [],
      "source": [
        "import numpy as np\n",
        "train_img = np.array(train_img,dtype=object)\n",
        "test_img = np.array(test_img,dtype=object)"
      ]
    },
    {
      "cell_type": "code",
      "execution_count": null,
      "metadata": {
        "id": "nGOn8ujFXiNS"
      },
      "outputs": [],
      "source": [
        "train_img = train_img.astype(np.float32)\n",
        "test_img = test_img.astype(np.float32)"
      ]
    },
    {
      "cell_type": "code",
      "execution_count": null,
      "metadata": {
        "id": "SuMBU5cxSyhz"
      },
      "outputs": [],
      "source": [
        "# train_img1 = train_img/255.0\n",
        "# test_img1 = test_img/255.0"
      ]
    },
    {
      "cell_type": "code",
      "execution_count": null,
      "metadata": {
        "id": "cKP0snzZTfKq"
      },
      "outputs": [],
      "source": [
        "# y_train1 = np.array(y_train).astype(np.float32)\n",
        "# y_test1 = np.array(y_test).astype(np.float32)"
      ]
    },
    {
      "cell_type": "markdown",
      "metadata": {
        "id": "WvVdFxaP1lFi"
      },
      "source": [
        "## LSTM Model"
      ]
    },
    {
      "cell_type": "code",
      "execution_count": null,
      "metadata": {
        "id": "QJyjMvSQ1ljN"
      },
      "outputs": [],
      "source": [
        "from keras.layers import Dense, LSTM, BatchNormalization, Dropout\n",
        "from keras.models import Sequential\n",
        "from keras.preprocessing.sequence import pad_sequences\n",
        "from sklearn.model_selection import train_test_split\n",
        "from keras.callbacks import EarlyStopping"
      ]
    },
    {
      "cell_type": "code",
      "execution_count": null,
      "metadata": {
        "colab": {
          "base_uri": "https://localhost:8080/"
        },
        "id": "iu2I9JM22UqT",
        "outputId": "9bc65da4-d47d-4df2-9885-9d9aa7d15864"
      },
      "outputs": [
        {
          "data": {
            "text/plain": [
              "(150, 150)"
            ]
          },
          "execution_count": 45,
          "metadata": {},
          "output_type": "execute_result"
        }
      ],
      "source": [
        "train_img[0].shape"
      ]
    },
    {
      "cell_type": "code",
      "execution_count": null,
      "metadata": {
        "id": "mDOCx2JRs2SO"
      },
      "outputs": [],
      "source": [
        "model = Sequential()\n",
        "model.add(LSTM(150, input_shape = train_img[0].shape,return_sequences= True))\n",
        "model.add(LSTM(64,return_sequences= True))\n",
        "model.add(LSTM(64))\n",
        "model.add(Dense(100, activation='relu'))\n",
        "model.add(Dense(50,activation = 'relu'))\n",
        "model.add(Dense(20, activation='softmax'))\n",
        "model.compile(loss='categorical_crossentropy', optimizer='adam', metrics=['accuracy'])"
      ]
    },
    {
      "cell_type": "code",
      "execution_count": null,
      "metadata": {
        "colab": {
          "base_uri": "https://localhost:8080/"
        },
        "id": "6OJE_NwV2f-X",
        "outputId": "ef3c4847-bd63-4300-f176-050afc7c3e1b"
      },
      "outputs": [
        {
          "name": "stdout",
          "output_type": "stream",
          "text": [
            "Model: \"sequential\"\n",
            "_________________________________________________________________\n",
            " Layer (type)                Output Shape              Param #   \n",
            "=================================================================\n",
            " lstm (LSTM)                 (None, 150, 150)          180600    \n",
            "                                                                 \n",
            " lstm_1 (LSTM)               (None, 150, 64)           55040     \n",
            "                                                                 \n",
            " lstm_2 (LSTM)               (None, 64)                33024     \n",
            "                                                                 \n",
            " dense (Dense)               (None, 100)               6500      \n",
            "                                                                 \n",
            " dense_1 (Dense)             (None, 50)                5050      \n",
            "                                                                 \n",
            " dense_2 (Dense)             (None, 20)                1020      \n",
            "                                                                 \n",
            "=================================================================\n",
            "Total params: 281,234\n",
            "Trainable params: 281,234\n",
            "Non-trainable params: 0\n",
            "_________________________________________________________________\n"
          ]
        }
      ],
      "source": [
        "model.summary()"
      ]
    },
    {
      "cell_type": "code",
      "execution_count": null,
      "metadata": {
        "colab": {
          "base_uri": "https://localhost:8080/"
        },
        "id": "KLXqcXfBthM3",
        "outputId": "2efb6fe7-4cdd-42bf-91de-5f4e716b7f4e"
      },
      "outputs": [
        {
          "name": "stdout",
          "output_type": "stream",
          "text": [
            "Epoch 1/30\n",
            "224/224 [==============================] - 6s 28ms/step - loss: 1.5999 - accuracy: 0.5081 - val_loss: 1.7279 - val_accuracy: 0.4857\n",
            "Epoch 2/30\n",
            "224/224 [==============================] - 5s 23ms/step - loss: 1.5272 - accuracy: 0.5170 - val_loss: 1.7309 - val_accuracy: 0.4839\n",
            "Epoch 3/30\n",
            "224/224 [==============================] - 5s 23ms/step - loss: 1.4387 - accuracy: 0.5515 - val_loss: 1.7451 - val_accuracy: 0.5072\n",
            "Epoch 4/30\n",
            "224/224 [==============================] - 5s 23ms/step - loss: 1.4164 - accuracy: 0.5506 - val_loss: 1.7557 - val_accuracy: 0.5072\n",
            "Epoch 5/30\n",
            "224/224 [==============================] - 5s 23ms/step - loss: 1.3554 - accuracy: 0.5739 - val_loss: 1.9955 - val_accuracy: 0.4516\n",
            "Epoch 6/30\n",
            "224/224 [==============================] - 5s 23ms/step - loss: 1.3239 - accuracy: 0.5905 - val_loss: 1.5433 - val_accuracy: 0.5609\n",
            "Epoch 7/30\n",
            "224/224 [==============================] - 5s 24ms/step - loss: 1.2421 - accuracy: 0.6084 - val_loss: 1.4890 - val_accuracy: 0.5806\n",
            "Epoch 8/30\n",
            "224/224 [==============================] - 5s 23ms/step - loss: 1.1805 - accuracy: 0.6317 - val_loss: 1.6386 - val_accuracy: 0.5573\n",
            "Epoch 9/30\n",
            "224/224 [==============================] - 5s 23ms/step - loss: 1.0760 - accuracy: 0.6550 - val_loss: 1.5096 - val_accuracy: 0.5556\n",
            "Epoch 10/30\n",
            "224/224 [==============================] - 5s 23ms/step - loss: 1.0527 - accuracy: 0.6644 - val_loss: 1.3900 - val_accuracy: 0.6111\n",
            "Epoch 11/30\n",
            "224/224 [==============================] - 5s 23ms/step - loss: 0.9371 - accuracy: 0.6980 - val_loss: 1.4457 - val_accuracy: 0.5753\n",
            "Epoch 12/30\n",
            "224/224 [==============================] - 5s 23ms/step - loss: 0.9883 - accuracy: 0.6927 - val_loss: 1.2985 - val_accuracy: 0.6237\n",
            "Epoch 13/30\n",
            "224/224 [==============================] - 5s 23ms/step - loss: 0.8514 - accuracy: 0.7343 - val_loss: 1.2827 - val_accuracy: 0.6362\n",
            "Epoch 14/30\n",
            "224/224 [==============================] - 5s 23ms/step - loss: 0.7974 - accuracy: 0.7527 - val_loss: 1.3567 - val_accuracy: 0.6398\n",
            "Epoch 15/30\n",
            "224/224 [==============================] - 5s 23ms/step - loss: 0.7877 - accuracy: 0.7549 - val_loss: 1.2863 - val_accuracy: 0.6398\n",
            "Epoch 16/30\n",
            "224/224 [==============================] - 5s 24ms/step - loss: 0.6917 - accuracy: 0.7755 - val_loss: 1.1549 - val_accuracy: 0.6703\n",
            "Epoch 17/30\n",
            "224/224 [==============================] - 5s 23ms/step - loss: 0.6810 - accuracy: 0.7737 - val_loss: 1.1406 - val_accuracy: 0.6792\n",
            "Epoch 18/30\n",
            "224/224 [==============================] - 5s 24ms/step - loss: 0.7472 - accuracy: 0.7675 - val_loss: 1.3559 - val_accuracy: 0.6290\n",
            "Epoch 19/30\n",
            "224/224 [==============================] - 5s 23ms/step - loss: 0.5798 - accuracy: 0.8172 - val_loss: 1.1322 - val_accuracy: 0.6989\n",
            "Epoch 20/30\n",
            "224/224 [==============================] - 5s 23ms/step - loss: 0.5542 - accuracy: 0.8132 - val_loss: 1.2299 - val_accuracy: 0.6828\n",
            "Epoch 21/30\n",
            "224/224 [==============================] - 5s 23ms/step - loss: 0.5388 - accuracy: 0.8280 - val_loss: 1.1288 - val_accuracy: 0.6810\n",
            "Epoch 22/30\n",
            "224/224 [==============================] - 5s 24ms/step - loss: 0.5327 - accuracy: 0.8302 - val_loss: 1.2141 - val_accuracy: 0.6774\n",
            "Epoch 23/30\n",
            "224/224 [==============================] - 5s 24ms/step - loss: 0.4693 - accuracy: 0.8508 - val_loss: 1.1529 - val_accuracy: 0.6900\n",
            "Epoch 24/30\n",
            "224/224 [==============================] - 5s 23ms/step - loss: 0.5750 - accuracy: 0.8123 - val_loss: 1.1515 - val_accuracy: 0.6953\n",
            "Epoch 25/30\n",
            "224/224 [==============================] - 5s 23ms/step - loss: 0.3818 - accuracy: 0.8777 - val_loss: 1.0582 - val_accuracy: 0.7258\n",
            "Epoch 26/30\n",
            "224/224 [==============================] - 5s 23ms/step - loss: 0.3615 - accuracy: 0.8880 - val_loss: 1.0691 - val_accuracy: 0.7258\n",
            "Epoch 27/30\n",
            "224/224 [==============================] - 5s 23ms/step - loss: 0.3725 - accuracy: 0.8817 - val_loss: 1.1628 - val_accuracy: 0.7043\n",
            "Epoch 28/30\n",
            "224/224 [==============================] - 5s 23ms/step - loss: 0.4605 - accuracy: 0.8732 - val_loss: 1.2001 - val_accuracy: 0.7061\n",
            "Epoch 29/30\n",
            "224/224 [==============================] - 5s 23ms/step - loss: 0.3546 - accuracy: 0.8835 - val_loss: 1.0731 - val_accuracy: 0.7419\n",
            "Epoch 30/30\n",
            "224/224 [==============================] - 5s 23ms/step - loss: 0.2896 - accuracy: 0.9091 - val_loss: 1.1105 - val_accuracy: 0.7186\n"
          ]
        },
        {
          "data": {
            "text/plain": [
              "<keras.callbacks.History at 0x7fbab6f0aa90>"
            ]
          },
          "execution_count": 23,
          "metadata": {},
          "output_type": "execute_result"
        }
      ],
      "source": [
        "\n",
        "# fit network\n",
        "epochs = 30\n",
        "batch_size = 10\n",
        "verbose = 1\n",
        "model.fit(train_img, y_train, epochs=epochs, batch_size=batch_size, validation_split=0.2, verbose=verbose, callbacks=[EarlyStopping(monitor='val_loss',patience=7, min_delta=0.0001)])"
      ]
    },
    {
      "cell_type": "code",
      "execution_count": null,
      "metadata": {
        "id": "d0LX_FuKVfqq"
      },
      "outputs": [],
      "source": []
    },
    {
      "cell_type": "code",
      "execution_count": null,
      "metadata": {
        "colab": {
          "base_uri": "https://localhost:8080/"
        },
        "id": "1T1h1I1gFJ6Z",
        "outputId": "9a645ffe-e397-4ccd-a138-e2044542e3c7"
      },
      "outputs": [
        {
          "name": "stderr",
          "output_type": "stream",
          "text": [
            "WARNING:absl:Found untraced functions such as lstm_cell_layer_call_fn, lstm_cell_layer_call_and_return_conditional_losses, lstm_cell_1_layer_call_fn, lstm_cell_1_layer_call_and_return_conditional_losses, lstm_cell_2_layer_call_fn while saving (showing 5 of 6). These functions will not be directly callable after loading.\n"
          ]
        },
        {
          "name": "stdout",
          "output_type": "stream",
          "text": [
            "INFO:tensorflow:Assets written to: /content/drive/MyDrive/Scene_Recognition/LSTM/LSTM2/assets\n"
          ]
        },
        {
          "name": "stderr",
          "output_type": "stream",
          "text": [
            "INFO:tensorflow:Assets written to: /content/drive/MyDrive/Scene_Recognition/LSTM/LSTM2/assets\n",
            "WARNING:absl:<keras.layers.recurrent.LSTMCell object at 0x7fbb67d571d0> has the same name 'LSTMCell' as a built-in Keras object. Consider renaming <class 'keras.layers.recurrent.LSTMCell'> to avoid naming conflicts when loading with `tf.keras.models.load_model`. If renaming is not possible, pass the object in the `custom_objects` parameter of the load function.\n",
            "WARNING:absl:<keras.layers.recurrent.LSTMCell object at 0x7fbb5eaabc90> has the same name 'LSTMCell' as a built-in Keras object. Consider renaming <class 'keras.layers.recurrent.LSTMCell'> to avoid naming conflicts when loading with `tf.keras.models.load_model`. If renaming is not possible, pass the object in the `custom_objects` parameter of the load function.\n",
            "WARNING:absl:<keras.layers.recurrent.LSTMCell object at 0x7fbae213d090> has the same name 'LSTMCell' as a built-in Keras object. Consider renaming <class 'keras.layers.recurrent.LSTMCell'> to avoid naming conflicts when loading with `tf.keras.models.load_model`. If renaming is not possible, pass the object in the `custom_objects` parameter of the load function.\n"
          ]
        }
      ],
      "source": [
        "os.chdir(WORK_DIR)\n",
        "model.save(WORK_DIR + '/LSTM2')"
      ]
    },
    {
      "cell_type": "code",
      "execution_count": null,
      "metadata": {
        "id": "aMhH9GiInP2O"
      },
      "outputs": [],
      "source": [
        "from tensorflow import keras\n",
        "base_model = keras.models.load_model(WORK_DIR + '/LSTM2')"
      ]
    },
    {
      "cell_type": "code",
      "execution_count": null,
      "metadata": {
        "colab": {
          "base_uri": "https://localhost:8080/"
        },
        "id": "JkFCOYgH7XC4",
        "outputId": "fa1ed965-1a5a-4497-8757-3effd465fb28"
      },
      "outputs": [
        {
          "name": "stdout",
          "output_type": "stream",
          "text": [
            "30/30 [==============================] - 1s 13ms/step - loss: 1.3164 - accuracy: 0.6849\n"
          ]
        }
      ],
      "source": [
        "model_evaluation_history = base_model.evaluate(test_img, y_test)"
      ]
    },
    {
      "cell_type": "code",
      "execution_count": null,
      "metadata": {
        "id": "KmdbRnAXD_GT"
      },
      "outputs": [],
      "source": []
    },
    {
      "cell_type": "code",
      "execution_count": null,
      "metadata": {
        "id": "dq_K8u9gD_cD"
      },
      "outputs": [],
      "source": [
        "from keras.preprocessing import image\n",
        "from sklearn.metrics import classification_report\n",
        "prd_class =[]\n",
        "for i in x_test:\n",
        "  # print(\"/content/drive/MyDrive/Scene_Recognition/LSTM/frames/\"+i)\n",
        "  img = cv2.imread(\"/content/drive/MyDrive/Scene_Recognition/LSTM/frames/\"+i)\n",
        "\n",
        "  resized_frame = cv2.resize(img, (150, 150))\n",
        "\n",
        "  gray = cv2.cvtColor(resized_frame, cv2.COLOR_BGR2GRAY)\n",
        "  lbp = local_binary_pattern(gray, 16, 2, 'uniform')\n",
        "\n",
        "  predicted_labels_probabilities = base_model.predict(np.expand_dims(lbp, axis = 0))\n",
        "  predicted_label = np.argmax(predicted_labels_probabilities)\n",
        "  # print(predicted_label)\n",
        "\n",
        "  # output = np.argmax(base_model.predict(lbp).reshape(1,-1), axis=1)\n",
        "  prd_class.append(predicted_label)\n"
      ]
    },
    {
      "cell_type": "code",
      "execution_count": null,
      "metadata": {
        "colab": {
          "base_uri": "https://localhost:8080/"
        },
        "id": "iB4xqLXAD_cD",
        "outputId": "5849e673-a0f8-4e40-e76c-49dbe623386d"
      },
      "outputs": [
        {
          "name": "stdout",
          "output_type": "stream",
          "text": [
            "                  precision    recall  f1-score   support\n",
            "\n",
            "           Beach       0.68      0.81      0.74        53\n",
            "BuildingCollapse       0.83      0.68      0.75        59\n",
            "        Elevator       0.92      0.90      0.91        52\n",
            "       Escalator       0.50      0.48      0.49        46\n",
            "    FallingTrees       0.51      0.85      0.64        48\n",
            "       Fireworks       0.87      0.89      0.88        46\n",
            "      ForestFire       0.63      0.62      0.63        42\n",
            "        Fountain       0.59      0.45      0.51        44\n",
            "         Highway       0.38      0.46      0.42        46\n",
            "  LightningStorm       0.81      0.80      0.80        44\n",
            "        Marathon       0.64      0.36      0.46        44\n",
            "           Ocean       0.53      0.66      0.59        41\n",
            "         Railway       0.73      0.90      0.81        51\n",
            "    RushingRiver       0.42      0.30      0.35        43\n",
            "       SkyClouds       0.71      0.49      0.58        51\n",
            "         Snowing       0.59      0.55      0.57        42\n",
            "          Street       0.78      0.67      0.72        48\n",
            "       Waterfall       0.89      0.98      0.93        43\n",
            "     WavingFlags       0.98      0.98      0.98        43\n",
            "    WindmillFarm       0.85      0.93      0.89        44\n",
            "\n",
            "        accuracy                           0.69       930\n",
            "       macro avg       0.69      0.69      0.68       930\n",
            "    weighted avg       0.70      0.69      0.69       930\n",
            "\n"
          ]
        }
      ],
      "source": [
        "print(classification_report(y_test.argmax(axis=1),prd_class, target_names=class_names))"
      ]
    },
    {
      "cell_type": "code",
      "execution_count": null,
      "metadata": {
        "id": "FMC5EXZiD-4j"
      },
      "outputs": [],
      "source": []
    },
    {
      "cell_type": "markdown",
      "metadata": {
        "id": "DbdmwRs3J204"
      },
      "source": [
        "## video predictions"
      ]
    },
    {
      "cell_type": "code",
      "execution_count": null,
      "metadata": {
        "id": "pwQ4rsNVrPXJ"
      },
      "outputs": [],
      "source": [
        "IMAGE_HEIGHT, IMAGE_WIDTH = 150, 150\n",
        "video_file_path = \"/content/drive/MyDrive/Scene_Recognition/LSTM/camera_stationary/Beach/Beach_static_cam_1.mp4\"\n",
        "video_title = \"Beach_static_cam_1\"\n",
        "# Make the Output directory if it does not exist\n",
        "test_videos_directory = 'test_videos'\n",
        "os.makedirs(test_videos_directory, exist_ok = True)\n",
        "output_file_path = \"f'{test_videos_directory}/{video_title}-Output.mp4'\""
      ]
    },
    {
      "cell_type": "code",
      "execution_count": null,
      "metadata": {
        "id": "IZ6omAA6mYme"
      },
      "outputs": [],
      "source": [
        "def predict_on_video(video_file_path, output_file_path):    \n",
        "    '''\n",
        "    This function will perform action recognition on a video using the LRCN model.\n",
        "    Args:\n",
        "    video_file_path:  The path of the video stored in the disk on which the action recognition is to be performed.\n",
        "    output_file_path: The path where the ouput video with the predicted action being performed overlayed will be stored.\n",
        "    SEQUENCE_LENGTH:  The fixed number of frames of a video that can be passed to the model as one sequence.\n",
        "    '''\n",
        "\n",
        "    # Initialize the VideoCapture object to read from the video file.\n",
        "    video_reader = cv2.VideoCapture(video_file_path)\n",
        "\n",
        "    # Get the width and height of the video.\n",
        "    original_video_width = int(video_reader.get(cv2.CAP_PROP_FRAME_WIDTH))\n",
        "    original_video_height = int(video_reader.get(cv2.CAP_PROP_FRAME_HEIGHT))\n",
        "\n",
        "    # Initialize the VideoWriter Object to store the output video in the disk.\n",
        "    video_writer = cv2.VideoWriter(\"Beach_static_cam_2.avi\", cv2.VideoWriter_fourcc(*'MJPG'), \n",
        "                                   video_reader.get(cv2.CAP_PROP_FPS), (original_video_width, original_video_height))\n",
        "    \n",
        "    predicted_labels_probabilities_np = np.zeros((150, 20), dtype = float)\n",
        "\n",
        "    # Declare a queue to store video frames.\n",
        "    frames_queue = deque()\n",
        "\n",
        "    # Initialize a variable to store the predicted action being performed in the video.\n",
        "    predicted_class_name = ''\n",
        "\n",
        "    # Iterate until the video is accessed successfully.\n",
        "    while video_reader.isOpened():\n",
        "\n",
        "        # Read the frame.\n",
        "        ok, frame = video_reader.read() \n",
        "\n",
        "        \n",
        "        # Check if frame is not read properly then break the loop.\n",
        "        if not ok:\n",
        "            break\n",
        "\n",
        "        # Resize the Frame to fixed Dimensions.\n",
        "        resized_frame = cv2.resize(frame, (IMAGE_HEIGHT, IMAGE_WIDTH))\n",
        "\n",
        "        gray = cv2.cvtColor(resized_frame, cv2.COLOR_BGR2GRAY)\n",
        "\n",
        "        # print(gray.shape)\n",
        "        \n",
        "        lbp = local_binary_pattern(gray, 16, 2, 'uniform')\n",
        "\n",
        "#       # Appending the pre-processed frame into the frames list.\n",
        "        frames_queue.append(lbp)\n",
        "        for i in range(len(frames_queue)):\n",
        "          # print(frames_queue[i].shape)\n",
        "#         # Pass the normalized frames to the model and get the predicted probabilities.\n",
        "          predicted_labels_probabilities = base_model.predict(np.expand_dims(frames_queue[i], axis = 0))[0]\n",
        "\n",
        "          predicted_labels_probabilities_np[i] = predicted_labels_probabilities\n",
        "\n",
        "#         # Get the index of class with highest probability.\n",
        "          predicted_label = np.argmax(predicted_labels_probabilities)\n",
        "\n",
        "              \n",
        "\n",
        "#         # Get the class name using the retrieved index.\n",
        "          predicted_class_name = class_names[predicted_label]\n",
        "        \n",
        "#         # Write predicted class name on top of the frame.\n",
        "\n",
        "        # img = cv2.putText(frame, predicted_class_name, (10, 30), cv2.FONT_HERSHEY_SIMPLEX, 1, (0, 255, 0), 2)\n",
        "        cv2.putText(frame, predicted_class_name, (10, 30), cv2.FONT_HERSHEY_SIMPLEX, 1, (0, 255, 0), 2)\n",
        "        # cv2_imshow(img)\n",
        "#         # Write The frame into the disk using the VideoWriter Object.\n",
        "        video_writer.write(frame)\n",
        "\n",
        "    predicted_labels_probabilities_averaged = predicted_labels_probabilities_np.mean(axis = 0)\n",
        "\n",
        "    # Sorting the Averaged Predicted Labels Probabilities\n",
        "    predicted_labels_probabilities_averaged_sorted_indexes = np.argsort(predicted_labels_probabilities_averaged)[::-1]\n",
        "\n",
        "    # Iterating Over All Averaged Predicted Label Probabilities\n",
        "    for predicted_label in predicted_labels_probabilities_averaged_sorted_indexes:\n",
        "        # print(type())\n",
        "\n",
        "        # Accessing The Class Name using predicted label.\n",
        "        predicted_class_name = class_names[predicted_label]\n",
        "\n",
        "        # Accessing The Averaged Probability using predicted label.\n",
        "        predicted_probability = predicted_labels_probabilities_averaged[predicted_label]\n",
        "\n",
        "        print(f\"CLASS NAME: {predicted_class_name}   AVERAGED PROBABILITY: {(predicted_probability*100):.2}\")\n",
        "\n",
        "        \n",
        "    # Release the VideoCapture and VideoWriter objects.\n",
        "    video_reader.release()\n",
        "    video_writer.release()"
      ]
    },
    {
      "cell_type": "code",
      "execution_count": null,
      "metadata": {
        "colab": {
          "base_uri": "https://localhost:8080/"
        },
        "id": "VlXw-r3rmYjU",
        "outputId": "6a56b2da-ad78-46d2-9a64-7728f18d64da"
      },
      "outputs": [
        {
          "name": "stdout",
          "output_type": "stream",
          "text": [
            "CLASS NAME: Beach   AVERAGED PROBABILITY: 7.9e+01\n",
            "CLASS NAME: Snowing   AVERAGED PROBABILITY: 4.7\n",
            "CLASS NAME: Railway   AVERAGED PROBABILITY: 4.2\n",
            "CLASS NAME: Marathon   AVERAGED PROBABILITY: 3.0\n",
            "CLASS NAME: WavingFlags   AVERAGED PROBABILITY: 1.9\n",
            "CLASS NAME: Escalator   AVERAGED PROBABILITY: 1.4\n",
            "CLASS NAME: FallingTrees   AVERAGED PROBABILITY: 1.3\n",
            "CLASS NAME: ForestFire   AVERAGED PROBABILITY: 1.1\n",
            "CLASS NAME: Ocean   AVERAGED PROBABILITY: 1.0\n",
            "CLASS NAME: Fountain   AVERAGED PROBABILITY: 0.62\n",
            "CLASS NAME: Highway   AVERAGED PROBABILITY: 0.52\n",
            "CLASS NAME: RushingRiver   AVERAGED PROBABILITY: 0.31\n",
            "CLASS NAME: SkyClouds   AVERAGED PROBABILITY: 0.23\n",
            "CLASS NAME: Waterfall   AVERAGED PROBABILITY: 0.23\n",
            "CLASS NAME: Elevator   AVERAGED PROBABILITY: 0.22\n",
            "CLASS NAME: LightningStorm   AVERAGED PROBABILITY: 0.081\n",
            "CLASS NAME: Fireworks   AVERAGED PROBABILITY: 0.044\n",
            "CLASS NAME: BuildingCollapse   AVERAGED PROBABILITY: 0.039\n",
            "CLASS NAME: WindmillFarm   AVERAGED PROBABILITY: 0.0071\n",
            "CLASS NAME: Street   AVERAGED PROBABILITY: 0.00015\n"
          ]
        }
      ],
      "source": [
        "predict_on_video(video_file_path, output_file_path)"
      ]
    },
    {
      "cell_type": "code",
      "execution_count": null,
      "metadata": {
        "id": "gFccAW4_JXfn"
      },
      "outputs": [],
      "source": []
    },
    {
      "cell_type": "code",
      "execution_count": null,
      "metadata": {
        "id": "8UwVGfgsnaQ4"
      },
      "outputs": [],
      "source": [
        "import cv2\n",
        "def make_average_predictions(frames):\n",
        "    \n",
        "    # Initializing the Numpy array which will store Prediction Probabilities\n",
        "    predicted_labels_probabilities_np = np.zeros((frames.shape[0], 20), dtype = float)\n",
        "    \n",
        "    \n",
        "    for frame_id, frame_name in enumerate(frames):\n",
        "        # print(frame_id)\n",
        "\n",
        "        frame = cv2.imread(WORK_DIR+'/LBP_frames/'+frame_name,0)\n",
        "        \n",
        "        # Passing the frame to the model and receiving Predicted Probabilities.\n",
        "        predicted_labels_probabilities = base_model.predict(np.expand_dims(frame, axis = 0))[0]\n",
        "\n",
        "        # Appending predicted label probabilities to the deque object\n",
        "        predicted_labels_probabilities_np[frame_id] = predicted_labels_probabilities\n",
        "\n",
        "    # Calculating Average of Predicted Labels Probabilities Column Wise \n",
        "    predicted_labels_probabilities_averaged = predicted_labels_probabilities_np.mean(axis = 0)\n",
        "\n",
        "    # Sorting the Averaged Predicted Labels Probabilities\n",
        "    predicted_labels_probabilities_averaged_sorted_indexes = np.argsort(predicted_labels_probabilities_averaged)[::-1]\n",
        "    print(type(predicted_labels_probabilities_averaged_sorted_indexes))\n",
        "    # Iterating Over All Averaged Predicted Label Probabilities\n",
        "    for predicted_label in predicted_labels_probabilities_averaged_sorted_indexes:\n",
        "        # print(type())\n",
        "\n",
        "        # Accessing The Class Name using predicted label.\n",
        "        predicted_class_name = class_names[predicted_label]\n",
        "\n",
        "        # Accessing The Averaged Probability using predicted label.\n",
        "        predicted_probability = predicted_labels_probabilities_averaged[predicted_label]\n",
        "\n",
        "        print(f\"CLASS NAME: {predicted_class_name}   AVERAGED PROBABILITY: {(predicted_probability*100):.2}\")\n"
      ]
    },
    {
      "cell_type": "code",
      "execution_count": null,
      "metadata": {
        "colab": {
          "base_uri": "https://localhost:8080/"
        },
        "id": "yBS6hAuPnces",
        "outputId": "07020f7b-3cb8-441d-cd18-2b6e2b15919e"
      },
      "outputs": [
        {
          "name": "stdout",
          "output_type": "stream",
          "text": [
            "<class 'numpy.ndarray'>\n",
            "CLASS NAME: Beach   AVERAGED PROBABILITY: 8.2e+01\n",
            "CLASS NAME: Highway   AVERAGED PROBABILITY: 4.2\n",
            "CLASS NAME: Snowing   AVERAGED PROBABILITY: 3.4\n",
            "CLASS NAME: Fountain   AVERAGED PROBABILITY: 2.7\n",
            "CLASS NAME: Ocean   AVERAGED PROBABILITY: 1.3\n",
            "CLASS NAME: BuildingCollapse   AVERAGED PROBABILITY: 1.3\n",
            "CLASS NAME: Marathon   AVERAGED PROBABILITY: 0.87\n",
            "CLASS NAME: FallingTrees   AVERAGED PROBABILITY: 0.69\n",
            "CLASS NAME: LightningStorm   AVERAGED PROBABILITY: 0.53\n",
            "CLASS NAME: Elevator   AVERAGED PROBABILITY: 0.49\n",
            "CLASS NAME: WindmillFarm   AVERAGED PROBABILITY: 0.49\n",
            "CLASS NAME: WavingFlags   AVERAGED PROBABILITY: 0.49\n",
            "CLASS NAME: Waterfall   AVERAGED PROBABILITY: 0.46\n",
            "CLASS NAME: RushingRiver   AVERAGED PROBABILITY: 0.43\n",
            "CLASS NAME: Escalator   AVERAGED PROBABILITY: 0.39\n",
            "CLASS NAME: SkyClouds   AVERAGED PROBABILITY: 0.099\n",
            "CLASS NAME: Railway   AVERAGED PROBABILITY: 0.041\n",
            "CLASS NAME: ForestFire   AVERAGED PROBABILITY: 0.011\n",
            "CLASS NAME: Fireworks   AVERAGED PROBABILITY: 0.0051\n",
            "CLASS NAME: Street   AVERAGED PROBABILITY: 0.0042\n"
          ]
        }
      ],
      "source": [
        "frames_beach = balanced_df[balanced_df['class']=='Beach']['file_name']\n",
        "make_average_predictions(frames_beach)"
      ]
    },
    {
      "cell_type": "code",
      "execution_count": null,
      "metadata": {
        "colab": {
          "base_uri": "https://localhost:8080/"
        },
        "id": "AOMfSrePnxNM",
        "outputId": "c448f232-7155-4988-8638-12e64b9872ba"
      },
      "outputs": [
        {
          "name": "stdout",
          "output_type": "stream",
          "text": [
            "CLASS NAME: Fountain   AVERAGED PROBABILITY: 3.5e+01\n",
            "CLASS NAME: BuildingCollapse   AVERAGED PROBABILITY: 1.4e+01\n",
            "CLASS NAME: Beach   AVERAGED PROBABILITY: 1.3e+01\n",
            "CLASS NAME: RushingRiver   AVERAGED PROBABILITY: 8.3\n",
            "CLASS NAME: Marathon   AVERAGED PROBABILITY: 5.2\n",
            "CLASS NAME: Railway   AVERAGED PROBABILITY: 5.0\n",
            "CLASS NAME: Snowing   AVERAGED PROBABILITY: 3.9\n",
            "CLASS NAME: Ocean   AVERAGED PROBABILITY: 3.6\n",
            "CLASS NAME: SkyClouds   AVERAGED PROBABILITY: 2.8\n",
            "CLASS NAME: Street   AVERAGED PROBABILITY: 2.3\n",
            "CLASS NAME: Escalator   AVERAGED PROBABILITY: 1.9\n",
            "CLASS NAME: Highway   AVERAGED PROBABILITY: 1.8\n",
            "CLASS NAME: ForestFire   AVERAGED PROBABILITY: 1.1\n",
            "CLASS NAME: LightningStorm   AVERAGED PROBABILITY: 0.88\n",
            "CLASS NAME: FallingTrees   AVERAGED PROBABILITY: 0.8\n",
            "CLASS NAME: WindmillFarm   AVERAGED PROBABILITY: 0.73\n",
            "CLASS NAME: Elevator   AVERAGED PROBABILITY: 0.34\n",
            "CLASS NAME: WavingFlags   AVERAGED PROBABILITY: 0.092\n",
            "CLASS NAME: Fireworks   AVERAGED PROBABILITY: 0.051\n",
            "CLASS NAME: Waterfall   AVERAGED PROBABILITY: 0.0086\n"
          ]
        }
      ],
      "source": [
        "frames_fountain = balanced_df[balanced_df['class']=='Fountain']['file_name']\n",
        "make_average_predictions(frames_fountain)"
      ]
    },
    {
      "cell_type": "code",
      "execution_count": null,
      "metadata": {
        "colab": {
          "base_uri": "https://localhost:8080/"
        },
        "id": "sEHtNV_jn-zP",
        "outputId": "b4b60de7-eaad-411d-ba9a-22ccdbff048d"
      },
      "outputs": [
        {
          "name": "stdout",
          "output_type": "stream",
          "text": [
            "CLASS NAME: Highway   AVERAGED PROBABILITY: 4.9e+01\n",
            "CLASS NAME: BuildingCollapse   AVERAGED PROBABILITY: 1.3e+01\n",
            "CLASS NAME: Beach   AVERAGED PROBABILITY: 8.6\n",
            "CLASS NAME: RushingRiver   AVERAGED PROBABILITY: 4.4\n",
            "CLASS NAME: SkyClouds   AVERAGED PROBABILITY: 3.6\n",
            "CLASS NAME: Marathon   AVERAGED PROBABILITY: 3.0\n",
            "CLASS NAME: Railway   AVERAGED PROBABILITY: 2.8\n",
            "CLASS NAME: Snowing   AVERAGED PROBABILITY: 2.7\n",
            "CLASS NAME: Ocean   AVERAGED PROBABILITY: 2.1\n",
            "CLASS NAME: Escalator   AVERAGED PROBABILITY: 2.0\n",
            "CLASS NAME: Street   AVERAGED PROBABILITY: 2.0\n",
            "CLASS NAME: ForestFire   AVERAGED PROBABILITY: 1.8\n",
            "CLASS NAME: WindmillFarm   AVERAGED PROBABILITY: 1.6\n",
            "CLASS NAME: Fountain   AVERAGED PROBABILITY: 1.2\n",
            "CLASS NAME: FallingTrees   AVERAGED PROBABILITY: 1.0\n",
            "CLASS NAME: LightningStorm   AVERAGED PROBABILITY: 0.76\n",
            "CLASS NAME: Elevator   AVERAGED PROBABILITY: 0.26\n",
            "CLASS NAME: WavingFlags   AVERAGED PROBABILITY: 0.23\n",
            "CLASS NAME: Waterfall   AVERAGED PROBABILITY: 0.15\n",
            "CLASS NAME: Fireworks   AVERAGED PROBABILITY: 0.13\n"
          ]
        }
      ],
      "source": [
        "frames_highway = []\n",
        "for i in x_test:\n",
        "  if 'Highway' in i:\n",
        "    frames_highway.append(i)\n",
        "    \n",
        "make_average_predictions(pd.Series(frames_highway))"
      ]
    },
    {
      "cell_type": "code",
      "execution_count": null,
      "metadata": {
        "id": "SWgHLeaUelzl"
      },
      "outputs": [],
      "source": [
        "# predicted_labels_probabilities_np = np.zeros((frames.shape[0], 20), dtype = float)\n",
        "ll = []"
      ]
    },
    {
      "cell_type": "code",
      "execution_count": null,
      "metadata": {
        "id": "7Fz9FGruVjOr"
      },
      "outputs": [],
      "source": [
        "# def predict_on_video(video_file_path, output_file_path):    \n",
        "#     '''\n",
        "#     This function will perform action recognition on a video using the LRCN model.\n",
        "#     Args:\n",
        "#     video_file_path:  The path of the video stored in the disk on which the action recognition is to be performed.\n",
        "#     output_file_path: The path where the ouput video with the predicted action being performed overlayed will be stored.\n",
        "#     SEQUENCE_LENGTH:  The fixed number of frames of a video that can be passed to the model as one sequence.\n",
        "#     '''\n",
        "\n",
        "#     # Initialize the VideoCapture object to read from the video file.\n",
        "#     video_reader = cv2.VideoCapture(video_file_path)\n",
        "\n",
        "#     # Get the width and height of the video.\n",
        "#     original_video_width = int(video_reader.get(cv2.CAP_PROP_FRAME_WIDTH))\n",
        "#     original_video_height = int(video_reader.get(cv2.CAP_PROP_FRAME_HEIGHT))\n",
        "\n",
        "#     # Initialize the VideoWriter Object to store the output video in the disk.\n",
        "#     video_writer = cv2.VideoWriter(\"Beach_static_cam_1.avi\", cv2.VideoWriter_fourcc(*'MJPG'), \n",
        "#                                    video_reader.get(cv2.CAP_PROP_FPS), (original_video_width, original_video_height))\n",
        "\n",
        "#     # Declare a queue to store video frames.\n",
        "#     frames_queue = deque()\n",
        "\n",
        "#     # Initialize a variable to store the predicted action being performed in the video.\n",
        "#     predicted_class_name = ''\n",
        "\n",
        "#     # Iterate until the video is accessed successfully.\n",
        "#     while video_reader.isOpened():\n",
        "\n",
        "#         # Read the frame.\n",
        "#         ok, frame = video_reader.read() \n",
        "        \n",
        "#         # Check if frame is not read properly then break the loop.\n",
        "#         if not ok:\n",
        "#             break\n",
        "\n",
        "#         # Resize the Frame to fixed Dimensions.\n",
        "#         resized_frame = cv2.resize(frame, (IMAGE_HEIGHT, IMAGE_WIDTH))\n",
        "\n",
        "#         gray = cv2.cvtColor(resized_frame, cv2.COLOR_BGR2GRAY)\n",
        "\n",
        "#         # print(gray.shape)\n",
        "        \n",
        "#         lbp = local_binary_pattern(gray, 16, 2, 'uniform')\n",
        "\n",
        "\n",
        "        \n",
        "#         # Normalize the resized frame by dividing it with 255 so that each pixel value then lies between 0 and 1.\n",
        "#         # normalized_frame = resized_frame / 255\n",
        "# # # \n",
        "# #         # Appending the pre-processed frame into the frames list.\n",
        "#         frames_queue.append(lbp)\n",
        "#         for i in range(len(frames_queue)):\n",
        "#           # print(frames_queue[i].shape)\n",
        "# #         # Pass the normalized frames to the model and get the predicted probabilities.\n",
        "#           predicted_labels_probabilities = base_model.predict(np.expand_dims(frames_queue[i], axis = 0))[0]\n",
        "\n",
        "# #         # Get the index of class with highest probability.\n",
        "#           predicted_label = np.argmax(predicted_labels_probabilities)\n",
        "\n",
        "# #         # Get the class name using the retrieved index.\n",
        "#           predicted_class_name = class_names[predicted_label]\n",
        "\n",
        "# #         # Write predicted class name on top of the frame.\n",
        "\n",
        "#         # img = cv2.putText(frame, predicted_class_name, (10, 30), cv2.FONT_HERSHEY_SIMPLEX, 1, (0, 255, 0), 2)\n",
        "#         cv2.putText(frame, predicted_class_name, (10, 30), cv2.FONT_HERSHEY_SIMPLEX, 1, (0, 255, 0), 2)\n",
        "#         # cv2_imshow(img)\n",
        "# #         # Write The frame into the disk using the VideoWriter Object.\n",
        "#         video_writer.write(frame)\n",
        "        \n",
        "#     # Release the VideoCapture and VideoWriter objects.\n",
        "#     video_reader.release()\n",
        "#     video_writer.release()"
      ]
    },
    {
      "cell_type": "code",
      "execution_count": null,
      "metadata": {
        "id": "A0nqMSpDQVX8"
      },
      "outputs": [],
      "source": []
    }
  ],
  "metadata": {
    "accelerator": "GPU",
    "colab": {
      "collapsed_sections": [
        "DbdmwRs3J204"
      ],
      "name": "LSTM_LBP(68).ipynb",
      "provenance": []
    },
    "kernelspec": {
      "display_name": "Python ('Research')",
      "language": "python",
      "name": "python3"
    },
    "language_info": {
      "codemirror_mode": {
        "name": "ipython",
        "version": 3
      },
      "file_extension": ".py",
      "mimetype": "text/x-python",
      "name": "python",
      "nbconvert_exporter": "python",
      "pygments_lexer": "ipython3",
      "version": "3.10.1"
    },
    "vscode": {
      "interpreter": {
        "hash": "25a19fbe0a9132dfb9279d48d161753c6352f8f9478c2e74383d340069b907c3"
      }
    }
  },
  "nbformat": 4,
  "nbformat_minor": 0
}
